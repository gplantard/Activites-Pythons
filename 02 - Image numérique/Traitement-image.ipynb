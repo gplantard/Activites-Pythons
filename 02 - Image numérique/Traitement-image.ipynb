{
 "cells": [
  {
   "cell_type": "markdown",
   "metadata": {},
   "source": [
    "# Introduction à Jupyter\n",
    "L'environnement sur lequel vous êtes s'appelle \"Jupyter NoteBook\". Il permet, entre autres, d'exécuter du code Python.\n",
    "\n",
    "Le but de ce TP n'est pas de vous enseigner le Python. Nous verrons cela un peu plus tard.\n",
    "\n",
    "Vous allez devoir tout de même modifier quelques lignes de code afin d'arriver à faire le TP. Pour cela vous devez donc s'avoir comment exécuter du code.\n"
   ]
  },
  {
   "cell_type": "markdown",
   "metadata": {},
   "source": [
    "## Naviguer\n",
    "\n",
    "Premièrement, pour vous déplacer de section en section, vous pouvez soit utiliser la souris, soit utiliser les flèches ``haut`` et ``bas``.\n",
    "\n",
    "Pour éditer une case, vous pouvez double-cliquer, ou appuyer dans la touche ``Entrée``. Vous passez alors en mode **Edition**\n",
    "\n",
    "Pour sortir du mode **Edition** et revenir au mode **Navigation**, il vous suffit d'appuyer sur ``Echap``. \n",
    "\n",
    "Enfin, pour **visualiser vos modifications**, vous pouvez soit cliquer sur le bouton \"Exécuter\" (avec l'icône lecture), ou appuyer sur ``Ctrl + Entrer`` \n",
    "\n",
    "Exercice :\n",
    "1. Editez la section suivante pour marquer la réponses \"42\"\n",
    "2. Déplacez-vous jusqu'à la section \"Exécuter du code\".\n"
   ]
  },
  {
   "cell_type": "markdown",
   "metadata": {},
   "source": [
    "**Réponse**:\n",
    "\n",
    "*Marquez votre réponse ici*"
   ]
  },
  {
   "cell_type": "markdown",
   "metadata": {},
   "source": [
    "## Exécuter du code\n",
    "Le code suivant affiche seulement un message vous disant \"Bonjour\". Pour exécuter ce code, appuyez sur ``Ctrl + Entrer`` ou cliquez sur le bouton ``Exécuter`` dans le menu en haut.\n"
   ]
  },
  {
   "cell_type": "code",
   "execution_count": null,
   "metadata": {},
   "outputs": [],
   "source": [
    "# Le texte précédé d'un dièse n'est pas exécuté. Cela sert à ajouter des commentaires au code\n",
    "print (\"Code exécuté avec succès\")"
   ]
  },
  {
   "cell_type": "markdown",
   "metadata": {},
   "source": [
    "# Traitement d'image\n",
    "\n",
    "Dans ce TP, vous allez devoir faire un programme qui va afficher le négatif d’une image. Notez dans un fichier word, ou autre vos réponses pour pouvoir les reprendres plus tard. N'oubliez pas que les notions vues dans cette activité font partie du cours et vous pouvez être interrogé dessus en evaluation.\n",
    "\n",
    "Nous allons commencer par afficher une image. Exécutez le code suivant. Il affiche l'image de base (en réalité le code recopie l'image de base dans une image résultat qui affiche).\n",
    "\n",
    "Le temps de calcul peut prendre un peu de temps. Merci d'attendre au moins 20 secondes.\n",
    "\n",
    "Dans la suite nous allons modifier le code calculant un pixel (``traitement pixel``) pour faire le traitement d'image."
   ]
  },
  {
   "cell_type": "code",
   "execution_count": null,
   "metadata": {},
   "outputs": [],
   "source": [
    "import matplotlib.pyplot as plt\n",
    "import numpy as np\n",
    "from PIL import Image\n",
    "\n",
    "def traitement_pixel(pixel):\n",
    "    (r, g, b) = pixel\n",
    "    \n",
    "    # ---- Partie que vous pouvez modifier -----\n",
    "    new_r = r    # calcul de la composante ROUGE\n",
    "    new_g = g    # calcul de la composante VERTE\n",
    "    new_b = b    # calcul de la composante BLEUE\n",
    "    # -------------------------------------------\n",
    "    \n",
    "    return (new_r,new_g,new_b)\n",
    "\n",
    "def traitement_image(image):\n",
    "    (largeur, hauteur) = image.size\n",
    "    result = Image.new(\"RGB\", (largeur, hauteur))  # on crée une nouvelle image RGB de la même taille que celle à décoder\n",
    "\n",
    "    # On parcourt l'image\n",
    "    for x in range(largeur):\n",
    "        for y in range(hauteur):\n",
    "            # On recupère les valeurs des composantes du pixel\n",
    "            pixel = image.getpixel((x, y))\n",
    "            # On modifie les valeurs des composantes\n",
    "            (new_r, new_g, new_b) = traitement_pixel(pixel)\n",
    "            # On met les nouvelles valeurs des composante dans la nouvelle image.\n",
    "            result.putpixel((x, y), (int(new_r), int(new_g), int(new_b)))\n",
    "    return result\n",
    "\n",
    "def traiter_image(name):\n",
    "    %matplotlib inline\n",
    "    pil_im = Image.open(image_a_traiter, 'r')\n",
    "    print(\"Traitement d'image en cours.\\nVeuillez patienter...\")\n",
    "    plt.figure(figsize = (6,6))\n",
    "    #plt.imshow(np.asarray(pil_im),aspect='auto')\n",
    "    plt.imshow(np.asarray(traitement_image(pil_im)))\n",
    "    \n",
    "image_a_traiter = 'encoded_mystere.bmp'\n",
    "traiter_image(image_a_traiter)"
   ]
  },
  {
   "cell_type": "markdown",
   "metadata": {},
   "source": [
    "##  Traitement simple\n",
    "Vous allez commencer par faire un traitement très simple à savoir afficher une image rouge à la place de celle d'origine.\n",
    "Il faut donc mettre pour chaque pixel la composante rouge à fond (255) et les autres à 0.\n",
    "\n",
    "Cela nous donne le code suivant. Exécutez le pour vérifier le bon fonctionnement. Si ce n'est pas le cas, veuillez exécuter la grosse partie de code précédente.\n"
   ]
  },
  {
   "cell_type": "code",
   "execution_count": null,
   "metadata": {},
   "outputs": [],
   "source": [
    "def traitement_pixel(pixel):\n",
    "    (r, g, b) = pixel\n",
    "    # ---- Partie que vous pouvez modifier -----\n",
    "    new_r = 255  # calcul de la composante ROUGE\n",
    "    new_g = 0    # calcul de la composante VERTE\n",
    "    new_b = 0    # calcul de la composante BLEUE\n",
    "    # -------------------------------------------\n",
    "    return (new_r,new_g,new_b)\n",
    "\n",
    "\n",
    "image_a_traiter = 'encoded_mystere.bmp'\n",
    "traiter_image(image_a_traiter)"
   ]
  },
  {
   "cell_type": "markdown",
   "metadata": {},
   "source": [
    "### Exercice\n",
    "En reprenant le principe du code précédent, modifiez le code suivant pour obtenir :\n",
    "1. Une image verte\n",
    "2. Une image bleue\n",
    "3. Une image jaune\n",
    "4. Une image noire\n",
    "5. Une image grise\n",
    "6. Une image orange\n"
   ]
  },
  {
   "cell_type": "code",
   "execution_count": null,
   "metadata": {},
   "outputs": [],
   "source": [
    "def traitement_pixel(pixel):\n",
    "    (r, g, b) = pixel\n",
    "    # ---- Partie que vous pouvez modifier -----\n",
    "    new_r = 255  # calcul de la composante ROUGE\n",
    "    new_g = 0    # calcul de la composante VERTE\n",
    "    new_b = 0    # calcul de la composante BLEUE\n",
    "    # -------------------------------------------\n",
    "    return (new_r,new_g,new_b)\n",
    "\n",
    "image_a_traiter = 'encoded_mystere.bmp'\n",
    "traiter_image(image_a_traiter)"
   ]
  },
  {
   "cell_type": "markdown",
   "metadata": {},
   "source": [
    "## Affichage des composantes \n",
    "\n",
    "L'intérêt des traitements précédents est très limité. Un traitement d'image se base sur la valeur de chacune des composantes rouge, vert et bleu.\n",
    "\n",
    "Vous allez maintenant afficher uniquement la partie rouge de l'image à traiter. Avec le code qu'on exécute, la valeur de rouge est contenue dans la variable ``r``, le vert est dans ``g`` et le bleu dans ``b``.\n",
    "\n",
    "Pour afficher la composante rouge de l'image, exécutez le code suivant :\n"
   ]
  },
  {
   "cell_type": "code",
   "execution_count": null,
   "metadata": {},
   "outputs": [],
   "source": [
    "def traitement_pixel(pixel):\n",
    "    (r, g, b) = pixel\n",
    "    # ---- Partie que vous pouvez modifier -----\n",
    "    new_r = r    # calcul de la composante ROUGE\n",
    "    new_g = 0    # calcul de la composante VERTE\n",
    "    new_b = 0    # calcul de la composante BLEUE\n",
    "    # -------------------------------------------\n",
    "    return (new_r,new_g,new_b)\n",
    "\n",
    "image_a_traiter = 'encoded_mystere.bmp'\n",
    "traiter_image(image_a_traiter)"
   ]
  },
  {
   "cell_type": "markdown",
   "metadata": {},
   "source": [
    "Pour afficher la verte, c'est le code suivant. Vous pouvez remarquer que les zone colorées et les zones en noir ne sont pas les mêmes."
   ]
  },
  {
   "cell_type": "code",
   "execution_count": null,
   "metadata": {},
   "outputs": [],
   "source": [
    "def traitement_pixel(pixel):\n",
    "    (r, g, b) = pixel\n",
    "    # ---- Partie que vous pouvez modifier -----\n",
    "    new_r = 0    # calcul de la composante ROUGE\n",
    "    new_g = g    # calcul de la composante VERTE\n",
    "    new_b = 0    # calcul de la composante BLEUE\n",
    "    # -------------------------------------------\n",
    "    return (new_r,new_g,new_b)\n",
    "\n",
    "image_a_traiter = 'encoded_mystere.bmp'\n",
    "traiter_image(image_a_traiter)"
   ]
  },
  {
   "cell_type": "markdown",
   "metadata": {},
   "source": [
    "### Exercice\n",
    "Sur le même principe, affichez la composante bleue de l'image.\n"
   ]
  },
  {
   "cell_type": "code",
   "execution_count": null,
   "metadata": {},
   "outputs": [],
   "source": [
    "def traitement_pixel(pixel):\n",
    "    (r, g, b) = pixel\n",
    "    # ---- Partie que vous pouvez modifier -----\n",
    "    new_r = 0    # calcul de la composante ROUGE\n",
    "    new_g = 0    # calcul de la composante VERTE\n",
    "    new_b = 0    # calcul de la composante BLEUE\n",
    "    # -------------------------------------------\n",
    "    return (new_r,new_g,new_b)\n",
    "\n",
    "image_a_traiter = 'encoded_mystere.bmp'\n",
    "traiter_image(image_a_traiter)"
   ]
  },
  {
   "cell_type": "markdown",
   "metadata": {},
   "source": [
    "## Négatif d'une image\n",
    "Pour rappel, nous avons vu dans les TP précédents que pour calculer le négatif d'une image, il faut appliquer la formule suivante : \n",
    "$$p' = 2^n-p-1$$\n",
    "Où :\n",
    "* $p'$ est la nouvelle valeur \"couleur\"\n",
    "* $p$ est la valeur de l'ancienne \"couleur\"\n",
    "* $n$ est le nombre de bits utiliser pour coder la \"couleur\".\n",
    "\n",
    "Pour calculer le négatif d'une image en couleur, il faut appliquer ce procédé pour chacune des composantes.\n",
    "\n",
    "### Exercice \n",
    "Sachant que dans l'image traitée (comme dans la grande majorité des cas) les composantes sont codées sur **un octet, donc sur 8 bits**, modifiez le code suivant pour afficher le négatif de l'image.\n"
   ]
  },
  {
   "cell_type": "code",
   "execution_count": null,
   "metadata": {},
   "outputs": [],
   "source": [
    "def traitement_pixel(pixel):\n",
    "    (r, g, b) = pixel\n",
    "    # ---- Partie que vous pouvez modifier -----\n",
    "    new_r = 0    # calcul de la composante ROUGE\n",
    "    new_g = 0    # calcul de la composante VERTE\n",
    "    new_b = 0    # calcul de la composante BLEUE\n",
    "    # -------------------------------------------\n",
    "    return (new_r,new_g,new_b)\n",
    "\n",
    "image_a_traiter = 'encoded_mystere.bmp'\n",
    "traiter_image(image_a_traiter)"
   ]
  },
  {
   "cell_type": "markdown",
   "metadata": {},
   "source": [
    "## Image en niveau de gris\n",
    "Nous allons maintenant afficher l'image en niveau de gris, communément appeler \"en noir et blanc\".\n",
    "Pour cela nous allons faire la moyenne des composantes rouge, verte et bleu et on mettra le même résultat dans chacune des composantes.\n",
    "\n",
    "### Exercice\n",
    "En vous aidant de la description précédente, complétez le code suivant pour afficher l'image en niveau de gris.\n"
   ]
  },
  {
   "cell_type": "code",
   "execution_count": null,
   "metadata": {},
   "outputs": [],
   "source": [
    "def traitement_pixel(pixel):\n",
    "    (r, g, b) = pixel\n",
    "    # ---- Partie que vous pouvez modifier -----\n",
    "    new_r = (r+g+b)/3    # calcul de la composante ROUGE\n",
    "    new_g = 0    # calcul de la composante VERTE\n",
    "    new_b = 0    # calcul de la composante BLEUE\n",
    "    # -------------------------------------------\n",
    "    return (new_r,new_g,new_b)\n",
    "\n",
    "image_a_traiter = 'encoded_mystere.bmp'\n",
    "traiter_image(image_a_traiter)"
   ]
  },
  {
   "cell_type": "markdown",
   "metadata": {},
   "source": [
    "# Bonus : l'image secrète\n",
    "\n",
    "L'image que vous avez manipulée depuis le début de l'activité contient une **image cachée** par un procédé de stéganographie. Plus d'information dans le document suivant : \n",
    "https://nc-lycees.netocentre.fr/s/aMSXxKnFiQ3QzQ5\n",
    "\n",
    "Soyons Rôle-Play : l'inspecteur Harry enquête sur la mort 40 ans au paravent d'un certain James et de sa femme. Une photo du meurtrier est cachée dans l'image de cette activité. \n",
    "\n",
    "Saurez-vous trouver l'identité du meurtrier et en apporter la preuve en me transmettant la photo décryptée et le code utilisé par mail. \n",
    "\n",
    "L'inspecteur en chef Plantard saura **récompenser les 4 premiers** avec 3 points bonus au prochain contrôle.\n"
   ]
  },
  {
   "cell_type": "code",
   "execution_count": null,
   "metadata": {},
   "outputs": [],
   "source": [
    "def traitement_pixel(pixel):\n",
    "    (r, g, b) = pixel\n",
    "    # ---- Partie que vous pouvez modifier -----\n",
    "    new_r = r   # calcul de la composante ROUGE\n",
    "    new_g = g    # calcul de la composante VERTE\n",
    "    new_b = b    # calcul de la composante BLEUE\n",
    "    # -------------------------------------------\n",
    "    return (new_r,new_g,new_b)\n",
    "\n",
    "image_a_traiter = 'encoded_mystere.bmp'\n",
    "traiter_image(image_a_traiter)"
   ]
  }
 ],
 "metadata": {
  "kernelspec": {
   "display_name": "Python 3",
   "language": "python",
   "name": "python3"
  },
  "language_info": {
   "codemirror_mode": {
    "name": "ipython",
    "version": 3
   },
   "file_extension": ".py",
   "mimetype": "text/x-python",
   "name": "python",
   "nbconvert_exporter": "python",
   "pygments_lexer": "ipython3",
   "version": "3.7.7"
  }
 },
 "nbformat": 4,
 "nbformat_minor": 4
}
